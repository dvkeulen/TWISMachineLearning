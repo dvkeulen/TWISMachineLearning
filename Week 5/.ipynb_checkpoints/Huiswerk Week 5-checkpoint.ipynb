{
 "cells": [
  {
   "cell_type": "code",
   "execution_count": 105,
   "metadata": {},
   "outputs": [],
   "source": [
    "import numpy as np\n",
    "import pandas as pd\n",
    "import matplotlib.pyplot as plt\n",
    "from sklearn.model_selection import LeaveOneOut, KFold, train_test_split\n",
    "from sklearn.datasets import load_boston\n",
    "from sklearn.linear_model import LinearRegression, RidgeCV, LassoCV"
   ]
  },
  {
   "cell_type": "code",
   "execution_count": 106,
   "metadata": {},
   "outputs": [
    {
     "name": "stdout",
     "output_type": "stream",
     "text": [
      "(506, 13)\n",
      "(506, 14)\n"
     ]
    }
   ],
   "source": [
    "boston = load_boston()\n",
    "data = boston.data\n",
    "dfData = pd.DataFrame(data)\n",
    "\n",
    "print(dfData.shape)\n",
    "print(dfData.dropna().reset_index().shape)\n",
    "# Te zien is dat er geen regels verloren gaan, dropna is dus niet nodig."
   ]
  },
  {
   "cell_type": "raw",
   "metadata": {},
   "source": [
    "FEATURE NAMES\n",
    "\n",
    "CRIM - per capita crime rate by town\n",
    "ZN - proportion of residential land zoned for lots over 25,000 sq.ft.\n",
    "INDUS - proportion of non-retail business acres per town.\n",
    "CHAS - Charles River dummy variable (1 if tract bounds river; 0 otherwise)\n",
    "NOX - nitric oxides concentration (parts per 10 million)\n",
    "RM - average number of rooms per dwelling\n",
    "AGE - proportion of owner-occupied units built prior to 1940\n",
    "DIS - weighted distances to five Boston employment centres\n",
    "RAD - index of accessibility to radial highways\n",
    "TAX - full-value property-tax rate per $10,000\n",
    "PTRATIO - pupil-teacher ratio by town\n",
    "B - 1000(Bk - 0.63)^2 where Bk is the proportion of blacks by town\n",
    "LSTAT - % lower status of the population\n",
    "MEDV - Median value of owner-occupied homes in $1000's"
   ]
  },
  {
   "cell_type": "code",
   "execution_count": 107,
   "metadata": {},
   "outputs": [],
   "source": [
    "X = data[:,0:12]\n",
    "Y = data[:,12]\n",
    "\n",
    "Xtrain, Xtest, Ytrain, Ytest = train_test_split(X,Y, test_size = 0.2, random_state = 1)"
   ]
  },
  {
   "cell_type": "code",
   "execution_count": 111,
   "metadata": {},
   "outputs": [],
   "source": [
    "# Lineaire Regressie\n",
    "\n",
    "regLin = LinearRegression().fit(Xtrain, Ytrain)\n",
    "scoreLin = regLin.score(Xtest, Ytest)"
   ]
  },
  {
   "cell_type": "code",
   "execution_count": 112,
   "metadata": {},
   "outputs": [],
   "source": [
    "# Ridge regressie\n",
    "\n",
    "regRig = RidgeCV(alphas=[0.1, 1.0, 10.0])\n",
    "regRig.fit(Xtrain,Ytrain)\n",
    "scoreRig = regRig.score(Xtest,Ytest)"
   ]
  },
  {
   "cell_type": "code",
   "execution_count": 113,
   "metadata": {},
   "outputs": [],
   "source": [
    "# Lasso regressie\n",
    "\n",
    "regLas = LassoCV(cv=5, random_state=1).fit(Xtrain, Ytrain)\n",
    "scoreLas = regLas.score(Xtest, Ytest)"
   ]
  },
  {
   "cell_type": "code",
   "execution_count": 125,
   "metadata": {},
   "outputs": [
    {
     "name": "stdout",
     "output_type": "stream",
     "text": [
      "1. Lineair accuracy: 0.5956\n",
      "2. Ridge accuracy: 0.5931\n",
      "3. Lasso accuracy: 0.5659\n"
     ]
    }
   ],
   "source": [
    "print('1. Lineair accuracy: {:.4}'.format(scoreLin))\n",
    "print('2. Ridge accuracy: {:.4}'.format(scoreRig))\n",
    "print('3. Lasso accuracy: {:.4}'.format(scoreLas))"
   ]
  },
  {
   "cell_type": "code",
   "execution_count": null,
   "metadata": {},
   "outputs": [],
   "source": []
  }
 ],
 "metadata": {
  "kernelspec": {
   "display_name": "Python 3",
   "language": "python",
   "name": "python3"
  },
  "language_info": {
   "codemirror_mode": {
    "name": "ipython",
    "version": 3
   },
   "file_extension": ".py",
   "mimetype": "text/x-python",
   "name": "python",
   "nbconvert_exporter": "python",
   "pygments_lexer": "ipython3",
   "version": "3.6.8"
  }
 },
 "nbformat": 4,
 "nbformat_minor": 2
}
