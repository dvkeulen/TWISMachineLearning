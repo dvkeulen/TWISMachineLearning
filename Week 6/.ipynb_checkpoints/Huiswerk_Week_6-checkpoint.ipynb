{
 "cells": [
  {
   "cell_type": "code",
   "execution_count": 248,
   "metadata": {},
   "outputs": [],
   "source": [
    "import numpy as np\n",
    "import scipy.stats as st\n",
    "from scipy.spatial import distance\n",
    "import math\n",
    "from tqdm import tqdm_notebook as tqdm\n",
    "import os"
   ]
  },
  {
   "cell_type": "code",
   "execution_count": 224,
   "metadata": {},
   "outputs": [],
   "source": [
    "# laad en split data\n",
    "data = np.loadtxt('test_clustering.txt')\n",
    "X = data[:,0:2]\n",
    "Y = data[:,2]\n",
    "n = 7"
   ]
  },
  {
   "cell_type": "code",
   "execution_count": 225,
   "metadata": {},
   "outputs": [
    {
     "name": "stdout",
     "output_type": "stream",
     "text": [
      "[[17.19513056 21.54282622]\n",
      " [ 3.35379724 10.17344598]\n",
      " [ 8.22229558  4.46160978]\n",
      " [ 9.53383902 11.34925178]\n",
      " [16.52268014 16.60581516]\n",
      " [17.26725788 20.58797041]\n",
      " [10.13781469 25.83479427]]\n"
     ]
    }
   ],
   "source": [
    "# plaats random centroids\n",
    "centroids = st.uniform.rvs(X.min(axis=0), X.max(axis=0) - X.min(axis=0), size=(n, X.shape[1]), random_state = 1)\n",
    "print(centroids)"
   ]
  },
  {
   "cell_type": "code",
   "execution_count": 252,
   "metadata": {},
   "outputs": [],
   "source": [
    "change = 1\n",
    "while change > 1e-6:\n",
    "    distances = np.zeros([len(X),n])\n",
    "    for i, centroid in enumerate(centroids):\n",
    "        for j,dataPoint in enumerate(X):\n",
    "            distances[j,i] = math.sqrt((dataPoint[0]-centroid[0])**2+(dataPoint[1]-centroid[1])**2)\n",
    "\n",
    "    clusters = np.argmin(distances,axis = 1)\n",
    "    \n",
    "    newCentroids = np.zeros([centroids.shape[0],centroids.shape[1]])\n",
    "    for i in range(len(centroid)):\n",
    "        newCentroids[i,0] = np.mean(X[np.where(clusters == i)][:,0])\n",
    "        newCentroids[i,1] = np.mean(X[np.where(clusters == i)][:,1])\n",
    "    change = sum(sum(np.subtract(centroids,newCentroids))**2)\n",
    "    centroids = newCentroids"
   ]
  },
  {
   "cell_type": "code",
   "execution_count": 246,
   "metadata": {},
   "outputs": [],
   "source": []
  },
  {
   "cell_type": "code",
   "execution_count": 239,
   "metadata": {},
   "outputs": [
    {
     "data": {
      "text/plain": [
       "7"
      ]
     },
     "execution_count": 239,
     "metadata": {},
     "output_type": "execute_result"
    }
   ],
   "source": [
    "centroids.shape[0]"
   ]
  },
  {
   "cell_type": "code",
   "execution_count": 243,
   "metadata": {},
   "outputs": [
    {
     "data": {
      "text/plain": [
       "7997.090925852068"
      ]
     },
     "execution_count": 243,
     "metadata": {},
     "output_type": "execute_result"
    }
   ],
   "source": [
    "sum(sum(np.subtract(centroids,newCentroids))**2)"
   ]
  },
  {
   "cell_type": "code",
   "execution_count": null,
   "metadata": {},
   "outputs": [],
   "source": []
  }
 ],
 "metadata": {
  "kernelspec": {
   "display_name": "Python 3",
   "language": "python",
   "name": "python3"
  },
  "language_info": {
   "codemirror_mode": {
    "name": "ipython",
    "version": 3
   },
   "file_extension": ".py",
   "mimetype": "text/x-python",
   "name": "python",
   "nbconvert_exporter": "python",
   "pygments_lexer": "ipython3",
   "version": "3.6.8"
  }
 },
 "nbformat": 4,
 "nbformat_minor": 2
}
