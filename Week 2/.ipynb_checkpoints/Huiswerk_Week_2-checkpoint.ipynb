{
 "cells": [
  {
   "cell_type": "code",
   "execution_count": 9,
   "metadata": {},
   "outputs": [],
   "source": [
    "%matplotlib inline\n",
    "import numpy as np\n",
    "import matplotlib.pyplot as plt\n",
    "\n",
    "from sklearn.model_selection import train_test_split\n",
    "from sklearn.feature_extraction.text import CountVectorizer\n",
    "from sklearn.feature_extraction.text import TfidfTransformer\n",
    "from sklearn.naive_bayes import MultinomialNB\n",
    "from sklearn.linear_model import SGDClassifier\n",
    "from sklearn.pipeline import Pipeline\n",
    "from sklearn.model_selection import GridSearchCV\n",
    "from sklearn.metrics import accuracy_score\n",
    "import pandas as pd"
   ]
  },
  {
   "cell_type": "code",
   "execution_count": 10,
   "metadata": {},
   "outputs": [],
   "source": [
    "# Read data\n",
    "dfTrain = pd.read_csv('text_emotion_data.csv')\n",
    "dfTest = pd.read_csv('text_emotion_validate.csv')\n",
    "\n",
    "# Catagorize emotions\n",
    "dfTrain['sentiment'] = dfTrain.sentiment.astype('category').values.codes\n",
    "dfTest['sentiment'] = dfTest.sentiment.astype('category').values.codes"
   ]
  },
  {
   "cell_type": "code",
   "execution_count": 11,
   "metadata": {},
   "outputs": [],
   "source": [
    "# Split data in X and Y\n",
    "allTweetsTrain = dfTrain['content']\n",
    "allTweetsTest = dfTest['content']\n",
    "\n",
    "allEmotionsTrain = dfTrain['sentiment']\n",
    "allEmotionsTest = dfTest['sentiment']"
   ]
  },
  {
   "cell_type": "code",
   "execution_count": 12,
   "metadata": {
    "scrolled": true
   },
   "outputs": [
    {
     "name": "stdout",
     "output_type": "stream",
     "text": [
      "(36000, 549011)\n",
      "(4000, 549011)\n"
     ]
    }
   ],
   "source": [
    "# Vectorize the sentences in the tweets\n",
    "vectorizeTweets = CountVectorizer(stop_words='english', ngram_range=(1,4))\n",
    "trainCounts = vectorizeTweets.fit_transform(allTweetsTrain)\n",
    "testCounts = vectorizeTweets.transform(allTweetsTest)\n",
    "\n",
    "# Print shape of sets to check if features match\n",
    "print(trainCounts.shape)\n",
    "print(testCounts.shape)"
   ]
  },
  {
   "cell_type": "code",
   "execution_count": 13,
   "metadata": {},
   "outputs": [
    {
     "name": "stdout",
     "output_type": "stream",
     "text": [
      "(36000, 549011)\n",
      "(4000, 549011)\n"
     ]
    }
   ],
   "source": [
    "# Tfidf-scale the tweets\n",
    "tfidf_transformer = TfidfTransformer()\n",
    "trainTweetstfidf = tfidf_transformer.fit_transform(trainCounts)\n",
    "testTweetsifidf = tfidf_transformer.fit_transform(testCounts)\n",
    "\n",
    "# print shape of sets to check if features match\n",
    "print(trainTweetstfidf.shape)\n",
    "print(testTweetsifidf.shape)"
   ]
  },
  {
   "cell_type": "code",
   "execution_count": 14,
   "metadata": {},
   "outputs": [],
   "source": [
    "# Fit a model\n",
    "clf = SGDClassifier().fit(trainTweetstfidf, allEmotionsTrain)"
   ]
  },
  {
   "cell_type": "code",
   "execution_count": 15,
   "metadata": {},
   "outputs": [],
   "source": [
    "# Predict the test set\n",
    "prediction = clf.predict(testTweetsifidf)"
   ]
  },
  {
   "cell_type": "code",
   "execution_count": 16,
   "metadata": {},
   "outputs": [
    {
     "data": {
      "text/plain": [
       "0.33625"
      ]
     },
     "execution_count": 16,
     "metadata": {},
     "output_type": "execute_result"
    }
   ],
   "source": [
    "# print accuracy\n",
    "accuracy_score(prediction,allEmotionsTest)"
   ]
  }
 ],
 "metadata": {
  "kernelspec": {
   "display_name": "Python 3",
   "language": "python",
   "name": "python3"
  },
  "language_info": {
   "codemirror_mode": {
    "name": "ipython",
    "version": 3
   },
   "file_extension": ".py",
   "mimetype": "text/x-python",
   "name": "python",
   "nbconvert_exporter": "python",
   "pygments_lexer": "ipython3",
   "version": "3.6.8"
  }
 },
 "nbformat": 4,
 "nbformat_minor": 2
}
