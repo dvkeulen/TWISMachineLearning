{
 "cells": [
  {
   "cell_type": "code",
   "execution_count": 79,
   "metadata": {},
   "outputs": [],
   "source": [
    "%matplotlib inline\n",
    "import numpy as np\n",
    "import matplotlib.pyplot as plt\n",
    "\n",
    "from sklearn.model_selection import train_test_split\n",
    "from sklearn.feature_extraction.text import CountVectorizer\n",
    "from sklearn.feature_extraction.text import TfidfTransformer\n",
    "from sklearn.naive_bayes import MultinomialNB\n",
    "from sklearn.linear_model import SGDClassifier\n",
    "from sklearn.pipeline import Pipeline\n",
    "from sklearn.model_selection import GridSearchCV\n",
    "from sklearn.metrics import accuracy_score"
   ]
  },
  {
   "cell_type": "code",
   "execution_count": 15,
   "metadata": {},
   "outputs": [],
   "source": [
    "with open('text_emotion_data.csv','r',encoding = 'utf-8') as f:\n",
    "    emotionTrain = f.readlines()\n",
    "with open('text_emotion_validate.csv','r',encoding = 'utf-8') as f:\n",
    "    emotionTest = f.readlines()"
   ]
  },
  {
   "cell_type": "code",
   "execution_count": 16,
   "metadata": {},
   "outputs": [],
   "source": [
    "emotionTrain = [line.strip() for line in emotionTrain]\n",
    "emotionTest = [line.strip() for line in emotionTest]"
   ]
  },
  {
   "cell_type": "code",
   "execution_count": 14,
   "metadata": {
    "scrolled": true
   },
   "outputs": [
    {
     "data": {
      "text/plain": [
       "'1956968416,\"neutral\",\"xkilljoyx\",\"@dannycastillo We want to trade with someone who has Houston tickets, but no one will.\"'"
      ]
     },
     "execution_count": 14,
     "metadata": {},
     "output_type": "execute_result"
    }
   ],
   "source": [
    "emotionTrain[5]"
   ]
  },
  {
   "cell_type": "code",
   "execution_count": 83,
   "metadata": {},
   "outputs": [],
   "source": [
    "all_lines = trump_lines + bieber_lines"
   ]
  },
  {
   "cell_type": "code",
   "execution_count": 84,
   "metadata": {},
   "outputs": [],
   "source": [
    "labels = [0] * len(trump_lines) + [1] * len(bieber_lines)"
   ]
  },
  {
   "cell_type": "code",
   "execution_count": 85,
   "metadata": {},
   "outputs": [],
   "source": [
    "train_X, test_X, train_Y, test_Y = train_test_split(all_lines, labels, test_size=0.2, random_state = 1)"
   ]
  },
  {
   "cell_type": "code",
   "execution_count": 86,
   "metadata": {
    "scrolled": true
   },
   "outputs": [],
   "source": [
    "train_X_vect = CountVectorizer(stop_words='english', ngram_range=(1,3))\n",
    "train_X_counts = train_X_vect.fit_transform(train_X)"
   ]
  },
  {
   "cell_type": "code",
   "execution_count": 87,
   "metadata": {},
   "outputs": [
    {
     "name": "stdout",
     "output_type": "stream",
     "text": [
      "(3854, 54197)\n"
     ]
    }
   ],
   "source": [
    "print(train_X_counts.shape)"
   ]
  },
  {
   "cell_type": "code",
   "execution_count": 88,
   "metadata": {},
   "outputs": [
    {
     "name": "stdout",
     "output_type": "stream",
     "text": [
      "  (0, 28205)\t1\n",
      "  (0, 18806)\t1\n",
      "  (0, 28204)\t1\n",
      "  (0, 6255)\t1\n",
      "  (0, 18801)\t1\n",
      "  (0, 28148)\t1\n"
     ]
    }
   ],
   "source": [
    "print(train_X_counts[0,:])"
   ]
  },
  {
   "cell_type": "code",
   "execution_count": 89,
   "metadata": {},
   "outputs": [
    {
     "name": "stdout",
     "output_type": "stream",
     "text": [
      "love good bublexmas\n",
      "good bublexmas\n",
      "love good\n",
      "bublexmas\n",
      "good\n",
      "love\n"
     ]
    }
   ],
   "source": [
    "for index in [28205, 18806, 28204, 6255,18801, 28148]:\n",
    "    print(train_X_vect.get_feature_names()[index])"
   ]
  },
  {
   "cell_type": "code",
   "execution_count": 90,
   "metadata": {},
   "outputs": [],
   "source": [
    "tfidf_transformer = TfidfTransformer()\n",
    "train_X_tfidf = tfidf_transformer.fit_transform(train_X_counts)"
   ]
  },
  {
   "cell_type": "code",
   "execution_count": 91,
   "metadata": {},
   "outputs": [
    {
     "name": "stdout",
     "output_type": "stream",
     "text": [
      "  (0, 28205)\t0.4788863597242935\n",
      "  (0, 28204)\t0.4401264881780454\n",
      "  (0, 28148)\t0.2454601568870514\n",
      "  (0, 18806)\t0.4788863597242935\n",
      "  (0, 18801)\t0.24091813795372233\n",
      "  (0, 6255)\t0.4788863597242935\n"
     ]
    }
   ],
   "source": [
    "print(train_X_tfidf[0,:])"
   ]
  },
  {
   "cell_type": "code",
   "execution_count": 92,
   "metadata": {},
   "outputs": [],
   "source": [
    "test_X_counts = train_X_vect.transform(test_X)\n",
    "test_X_tfidf = tfidf_transformer.transform(test_X_counts)"
   ]
  },
  {
   "cell_type": "code",
   "execution_count": 93,
   "metadata": {},
   "outputs": [],
   "source": [
    "clf = MultinomialNB().fit(train_X_tfidf, train_Y)"
   ]
  },
  {
   "cell_type": "code",
   "execution_count": 94,
   "metadata": {},
   "outputs": [],
   "source": [
    "prediction = clf.predict(test_X_tfidf)"
   ]
  },
  {
   "cell_type": "code",
   "execution_count": 95,
   "metadata": {},
   "outputs": [
    {
     "data": {
      "text/plain": [
       "0.9128630705394191"
      ]
     },
     "execution_count": 95,
     "metadata": {},
     "output_type": "execute_result"
    }
   ],
   "source": [
    "accuracy_score(prediction,test_Y)"
   ]
  },
  {
   "cell_type": "code",
   "execution_count": null,
   "metadata": {},
   "outputs": [],
   "source": []
  }
 ],
 "metadata": {
  "kernelspec": {
   "display_name": "Python 3",
   "language": "python",
   "name": "python3"
  },
  "language_info": {
   "codemirror_mode": {
    "name": "ipython",
    "version": 3
   },
   "file_extension": ".py",
   "mimetype": "text/x-python",
   "name": "python",
   "nbconvert_exporter": "python",
   "pygments_lexer": "ipython3",
   "version": "3.7.1"
  }
 },
 "nbformat": 4,
 "nbformat_minor": 2
}
