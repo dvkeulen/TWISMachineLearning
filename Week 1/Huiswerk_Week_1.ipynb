{
 "cells": [
  {
   "cell_type": "code",
   "execution_count": 1,
   "metadata": {},
   "outputs": [],
   "source": [
    "import pandas as pd\n",
    "import numpy as np\n",
    "from sklearn.naive_bayes import GaussianNB\n",
    "from sklearn.metrics import accuracy_score"
   ]
  },
  {
   "cell_type": "code",
   "execution_count": 2,
   "metadata": {
    "scrolled": true
   },
   "outputs": [],
   "source": [
    "# import and clean train set\n",
    "df = pd.read_csv('train.csv')\n",
    "df['Sex'].replace(['female', 'male'], [0,1],inplace=True)\n",
    "df = df[~np.isnan(df['Pclass'])]\n",
    "df = df[~np.isnan(df['Age'])]\n",
    "df = df[~np.isnan(df['Sex'])]\n",
    "df = df[~np.isnan(df['SibSp'])]\n",
    "df = df[~np.isnan(df['Parch'])]"
   ]
  },
  {
   "cell_type": "code",
   "execution_count": 3,
   "metadata": {
    "scrolled": true
   },
   "outputs": [
    {
     "data": {
      "text/plain": [
       "GaussianNB(priors=None, var_smoothing=1e-09)"
      ]
     },
     "execution_count": 3,
     "metadata": {},
     "output_type": "execute_result"
    }
   ],
   "source": [
    "# fit model based on parameters that not worsen the model\n",
    "clf = GaussianNB()\n",
    "clf.fit(df[['Pclass', 'Age', 'Sex','SibSp','Parch']], df['Survived'])"
   ]
  },
  {
   "cell_type": "code",
   "execution_count": 4,
   "metadata": {},
   "outputs": [],
   "source": [
    "# import and clean test set\n",
    "dftest = pd.read_csv('test.csv')\n",
    "dftest['Sex'].replace(['female', 'male'], [0,1],inplace=True)\n",
    "dftest = dftest[~np.isnan(dftest['Pclass'])]\n",
    "dftest = dftest[~np.isnan(dftest['Age'])]\n",
    "dftest = dftest[~np.isnan(dftest['Sex'])]\n",
    "dftest = dftest[~np.isnan(dftest['SibSp'])]\n",
    "dftest = dftest[~np.isnan(dftest['Parch'])]"
   ]
  },
  {
   "cell_type": "code",
   "execution_count": 5,
   "metadata": {},
   "outputs": [],
   "source": [
    "# test the test set\n",
    "prediction = clf.predict(dftest[['Pclass', 'Age', 'Sex', 'SibSp','Parch']])"
   ]
  },
  {
   "cell_type": "code",
   "execution_count": 6,
   "metadata": {},
   "outputs": [
    {
     "data": {
      "text/plain": [
       "0.7831325301204819"
      ]
     },
     "execution_count": 6,
     "metadata": {},
     "output_type": "execute_result"
    }
   ],
   "source": [
    "# calculate acuracy\n",
    "accuracy_score(prediction, dftest['Survived'])"
   ]
  },
  {
   "cell_type": "code",
   "execution_count": null,
   "metadata": {},
   "outputs": [],
   "source": []
  }
 ],
 "metadata": {
  "kernelspec": {
   "display_name": "Python 3",
   "language": "python",
   "name": "python3"
  },
  "language_info": {
   "codemirror_mode": {
    "name": "ipython",
    "version": 3
   },
   "file_extension": ".py",
   "mimetype": "text/x-python",
   "name": "python",
   "nbconvert_exporter": "python",
   "pygments_lexer": "ipython3",
   "version": "3.6.8"
  }
 },
 "nbformat": 4,
 "nbformat_minor": 2
}
