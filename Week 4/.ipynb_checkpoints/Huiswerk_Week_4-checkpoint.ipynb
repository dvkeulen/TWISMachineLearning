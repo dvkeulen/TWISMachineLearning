{
 "cells": [
  {
   "cell_type": "code",
   "execution_count": 3,
   "metadata": {},
   "outputs": [],
   "source": [
    "import pandas as pd\n",
    "import numpy as np\n",
    "import matplotlib.pyplot as plt\n",
    "from sklearn.model_selection import train_test_split\n",
    "from sklearn.tree import DecisionTreeClassifier\n",
    "from sklearn.metrics import accuracy_score\n",
    "from sklearn.metrics import confusion_matrix\n",
    "from sklearn.utils.multiclass import unique_labels\n",
    "from sklearn import svm, datasets\n",
    "import matplotlib.pyplot as plt\n",
    "import matplotlib.image as mpimg"
   ]
  },
  {
   "cell_type": "code",
   "execution_count": 4,
   "metadata": {},
   "outputs": [
    {
     "name": "stderr",
     "output_type": "stream",
     "text": [
      "/Users/davidvankeulen/anaconda3/lib/python3.6/site-packages/IPython/core/interactiveshell.py:3044: DtypeWarning: Columns (19,47) have mixed types. Specify dtype option on import or set low_memory=False.\n",
      "  interactivity=interactivity, compiler=compiler, result=result)\n"
     ]
    }
   ],
   "source": [
    "# 1. Download de data set ‘lending-club-data.csv’\n",
    "\n",
    "data = pd.read_csv('lending-club-data.csv')"
   ]
  },
  {
   "cell_type": "code",
   "execution_count": 5,
   "metadata": {},
   "outputs": [],
   "source": [
    "# 2. Beperk de dataset tot de onderstaande kolommen\n",
    "\n",
    "data = data[['sub_grade', 'short_emp', 'emp_length_num', 'home_ownership', 'dti', 'purpose', 'term', 'last_delinq_none', 'last_major_derog_none', 'revol_util', 'total_rec_late_fee', 'bad_loans']]"
   ]
  },
  {
   "cell_type": "code",
   "execution_count": 6,
   "metadata": {},
   "outputs": [
    {
     "name": "stdout",
     "output_type": "stream",
     "text": [
      "bad_loans\n",
      "0    99457\n",
      "1    23150\n",
      "dtype: int64\n"
     ]
    }
   ],
   "source": [
    "# 3. Welk percentage van de dataset betreft 'goede'/'slechte leningen'\n",
    "\n",
    "print(data.groupby('bad_loans').size())"
   ]
  },
  {
   "cell_type": "code",
   "execution_count": 7,
   "metadata": {},
   "outputs": [
    {
     "name": "stdout",
     "output_type": "stream",
     "text": [
      "De dataset heeft van elk label even veel waarden\n"
     ]
    }
   ],
   "source": [
    "# 4. Gebruik de sample-functie (pandas dataframe) om gelijke aantallen \n",
    "# goede en slechte leningen te verkrijgen in de dataset. \n",
    "\n",
    "# Neem een steekproef uit de dataset ter grootte van het label met de minste waarden\n",
    "N = np.min(data.groupby('bad_loans').size())\n",
    "dataEq0 = data[data['bad_loans'] == 0].sample(n = N, random_state = 1)\n",
    "dataEq1 = data[data['bad_loans'] == 1].sample(n = N, random_state = 1)\n",
    "\n",
    "# Plak de twee df's aan elkaar en check of ze even groot zijn\n",
    "dataEq = pd.concat([dataEq0, dataEq1])\n",
    "\n",
    "if(len(dataEq[dataEq['bad_loans'] == 0]) == len(dataEq[dataEq['bad_loans'] == 0])):\n",
    "    print('De dataset heeft van elk label even veel waarden')\n",
    "else:\n",
    "    print('De dataset is ongelijk verdeeld')"
   ]
  },
  {
   "cell_type": "code",
   "execution_count": 8,
   "metadata": {},
   "outputs": [],
   "source": [
    "# 5. Gebruik one-hot-encoding om de textuele kolommen te vervangen door numerieke kolommen.\n",
    "\n",
    "dataEqH1E = pd.get_dummies(dataEq)"
   ]
  },
  {
   "cell_type": "code",
   "execution_count": 9,
   "metadata": {},
   "outputs": [],
   "source": [
    "# 6. Splits de dataset naar een trainingset (80%) en een testset.\n",
    "\n",
    "X = dataEqH1E.loc[:, dataEqH1E.columns != 'bad_loans']\n",
    "Y = dataEqH1E['bad_loans']\n",
    "\n",
    "X_train, X_test, Y_train, Y_test = train_test_split(X, Y, test_size=0.2, random_state=1)"
   ]
  },
  {
   "cell_type": "code",
   "execution_count": 10,
   "metadata": {},
   "outputs": [],
   "source": [
    "# 7. Fit een DecisionTreeClassifier m.b.v. Gini index en maximale diepte=6.\n",
    "# 8. Fit een DecisionTreeClassifier m.b.v. cross-entropy en maximale diepte=6.\n",
    "\n",
    "clfGini = DecisionTreeClassifier(criterion='gini', max_depth = 6).fit(X_train,Y_train)\n",
    "clfEnt6 = DecisionTreeClassifier(criterion='entropy', max_depth = 6).fit(X_train,Y_train)"
   ]
  },
  {
   "cell_type": "code",
   "execution_count": 11,
   "metadata": {},
   "outputs": [
    {
     "name": "stdout",
     "output_type": "stream",
     "text": [
      "Gini accuracy: 0.608639 Entropy accuracy: 0.609827\n"
     ]
    }
   ],
   "source": [
    "# 9. Vergelijk de accuracy van de trees uit de vorige twee stappen.\n",
    "\n",
    "accGini = accuracy_score(clfGini.predict(X_test), Y_test)\n",
    "accEnt6 = accuracy_score(clfEnt6.predict(X_test), Y_test)\n",
    "\n",
    "print('Gini accuracy: {:.6} Entropy accuracy: {:.6}'.format(accGini, accEnt6))"
   ]
  },
  {
   "cell_type": "code",
   "execution_count": 13,
   "metadata": {},
   "outputs": [],
   "source": [
    "# 10. Fit een DecisionTreeClassifier m.b.v. cross-entropy en maximale diepte=2 en nog een met maximale diepte=10.\n",
    "\n",
    "clfEnt2 = DecisionTreeClassifier(criterion='entropy', max_depth = 2).fit(X_train,Y_train)\n",
    "clfEnt10 = DecisionTreeClassifier(criterion='entropy', max_depth = 10).fit(X_train,Y_train)"
   ]
  },
  {
   "cell_type": "code",
   "execution_count": 14,
   "metadata": {},
   "outputs": [
    {
     "name": "stdout",
     "output_type": "stream",
     "text": [
      "depth 2: 0.595788, depth 6: 0.609827, depth 10: 0.611879\n"
     ]
    }
   ],
   "source": [
    "# 11. Vergelijk de accuracy van de (cross-entropy) trees met dieptes 2, 6 en 10.\n",
    "\n",
    "accEnt2 = accuracy_score(clfEnt2.predict(X_test), Y_test)\n",
    "accEnt10 = accuracy_score(clfEnt10.predict(X_test), Y_test)\n",
    "\n",
    "print('depth 2: {:.6}, depth 6: {:.6}, depth 10: {:.6}'.format(accEnt2, accEnt6, accEnt10))"
   ]
  },
  {
   "cell_type": "code",
   "execution_count": 26,
   "metadata": {},
   "outputs": [
    {
     "name": "stdout",
     "output_type": "stream",
     "text": [
      "Confusion matrix, without normalization\n",
      "[[3529 1074]\n",
      " [2539 2118]]\n",
      "Normalized confusion matrix\n",
      "[[0.76667391 0.23332609]\n",
      " [0.54520077 0.45479923]]\n"
     ]
    },
    {
     "data": {
      "text/plain": [
       "<matplotlib.axes._subplots.AxesSubplot at 0x1a1d137a90>"
      ]
     },
     "execution_count": 26,
     "metadata": {},
     "output_type": "execute_result"
    },
    {
     "data": {
      "image/png": "[encoded data removed]",
      "text/plain": [
       "<Figure size 432x288 with 2 Axes>"
      ]
     },
     "metadata": {
      "needs_background": "light"
     },
     "output_type": "display_data"
    },
    {
     "data": {
      "image/png": "[encoded data removed]",
      "text/plain": [
       "<Figure size 432x288 with 2 Axes>"
      ]
     },
     "metadata": {
      "needs_background": "light"
     },
     "output_type": "display_data"
    }
   ],
   "source": [
    "# 12. Maak een confusion matrix voor cross-entropy tree met diepte 6. \n",
    "\n",
    "# deze functie staat onderaan deze notebook (eerst runnen)\n",
    "plot_confusion_matrix(Y_test, clfEnt6.predict(X_test), classes = ['Good Loans', 'Bad Loans'],normalize=False,title=None,cmap=plt.cm.Blues)\n",
    "plot_confusion_matrix(Y_test, clfEnt6.predict(X_test), classes = ['Good Loans', 'Bad Loans'],normalize=True,title=None,cmap=plt.cm.Blues)"
   ]
  },
  {
   "cell_type": "code",
   "execution_count": 27,
   "metadata": {},
   "outputs": [
    {
     "ename": "NameError",
     "evalue": "name 'export_graphviz' is not defined",
     "output_type": "error",
     "traceback": [
      "\u001b[0;31m---------------------------------------------------------------------------\u001b[0m",
      "\u001b[0;31mNameError\u001b[0m                                 Traceback (most recent call last)",
      "\u001b[0;32m<ipython-input-27-b09a424cc5fa>\u001b[0m in \u001b[0;36m<module>\u001b[0;34m\u001b[0m\n\u001b[1;32m      8\u001b[0m \u001b[0;34m\u001b[0m\u001b[0m\n\u001b[1;32m      9\u001b[0m \u001b[0;32mwith\u001b[0m \u001b[0mopen\u001b[0m\u001b[0;34m(\u001b[0m\u001b[0;34m\"treeEnt2.txt\"\u001b[0m\u001b[0;34m,\u001b[0m \u001b[0;34m\"w\"\u001b[0m\u001b[0;34m)\u001b[0m \u001b[0;32mas\u001b[0m \u001b[0mf\u001b[0m\u001b[0;34m:\u001b[0m\u001b[0;34m\u001b[0m\u001b[0;34m\u001b[0m\u001b[0m\n\u001b[0;32m---> 10\u001b[0;31m     \u001b[0mf\u001b[0m \u001b[0;34m=\u001b[0m \u001b[0mexport_graphviz\u001b[0m\u001b[0;34m(\u001b[0m\u001b[0mclfEnt2\u001b[0m\u001b[0;34m,\u001b[0m \u001b[0mout_file\u001b[0m\u001b[0;34m=\u001b[0m\u001b[0mf\u001b[0m\u001b[0;34m)\u001b[0m\u001b[0;34m\u001b[0m\u001b[0;34m\u001b[0m\u001b[0m\n\u001b[0m\u001b[1;32m     11\u001b[0m \u001b[0;34m\u001b[0m\u001b[0m\n\u001b[1;32m     12\u001b[0m \u001b[0;32mwith\u001b[0m \u001b[0mopen\u001b[0m\u001b[0;34m(\u001b[0m\u001b[0;34m\"treeEnt6.txt\"\u001b[0m\u001b[0;34m,\u001b[0m \u001b[0;34m\"w\"\u001b[0m\u001b[0;34m)\u001b[0m \u001b[0;32mas\u001b[0m \u001b[0mf\u001b[0m\u001b[0;34m:\u001b[0m\u001b[0;34m\u001b[0m\u001b[0;34m\u001b[0m\u001b[0m\n",
      "\u001b[0;31mNameError\u001b[0m: name 'export_graphviz' is not defined"
     ]
    }
   ],
   "source": [
    "# 13. Visualiseer de cross-entropy trees met diepte 2 en 6.\n",
    "\n",
    "# macbooks en packages, een slechte combinatie. Ik heb voor deze opdracht \n",
    "# de graphviz web applicatie(http://webgraphviz.com) gebruikt en de afbeelding bijgevoegd\n",
    "# De tree met diepte 6 is zodanig groot dat deze onzinnig is om te laten zien\n",
    "# Ik kan er zelfs geen screenshot van maken. Wel kun je zelf de text uit de file \"treeEnt6.txt\"\n",
    "# kopiëren en plakken in de weblink.\n",
    "\n",
    "with open(\"treeEnt2.txt\", \"w\") as f:\n",
    "    f = export_graphviz(clfEnt2, out_file=f)\n",
    "    \n",
    "with open(\"treeEnt6.txt\", \"w\") as f:\n",
    "    f = export_graphviz(clfEnt6, out_file=f)\n",
    "    \n",
    "visTree2 = mpimg.imread('Tree2.png')\n",
    "figure(figsize = (20,10))\n",
    "imgplot = plt.imshow(visTree2)\n",
    "plt.show()"
   ]
  },
  {
   "cell_type": "code",
   "execution_count": 25,
   "metadata": {},
   "outputs": [],
   "source": [
    "# functie voor mooie confusion matrices\n",
    "\n",
    "def plot_confusion_matrix(y_true, y_pred, classes,\n",
    "                          normalize=False,\n",
    "                          title=None,\n",
    "                          cmap=plt.cm.Blues):\n",
    "    \"\"\"\n",
    "    This function prints and plots the confusion matrix.\n",
    "    Normalization can be applied by setting `normalize=True`.\n",
    "    \"\"\"\n",
    "    if not title:\n",
    "        if normalize:\n",
    "            title = 'Normalized confusion matrix'\n",
    "        else:\n",
    "            title = 'Confusion matrix, without normalization'\n",
    "\n",
    "    # Compute confusion matrix\n",
    "    cm = confusion_matrix(y_true, y_pred)\n",
    "    # Only use the labels that appear in the data\n",
    "    #classes = classes[unique_labels(y_true, y_pred)]\n",
    "    if normalize:\n",
    "        cm = cm.astype('float') / cm.sum(axis=1)[:, np.newaxis]\n",
    "        print(\"Normalized confusion matrix\")\n",
    "    else:\n",
    "        print('Confusion matrix, without normalization')\n",
    "\n",
    "    print(cm)\n",
    "\n",
    "    fig, ax = plt.subplots()\n",
    "    im = ax.imshow(cm, interpolation='nearest', cmap=cmap)\n",
    "    ax.figure.colorbar(im, ax=ax)\n",
    "    # We want to show all ticks...\n",
    "    ax.set(xticks=np.arange(cm.shape[1]),\n",
    "           yticks=np.arange(cm.shape[0]),\n",
    "           # ... and label them with the respective list entries\n",
    "           xticklabels=classes, yticklabels=classes,\n",
    "           title=title,\n",
    "           ylabel='True label',\n",
    "           xlabel='Predicted label')\n",
    "\n",
    "    # Rotate the tick labels and set their alignment.\n",
    "    plt.setp(ax.get_xticklabels(), rotation=45, ha=\"right\",\n",
    "             rotation_mode=\"anchor\")\n",
    "\n",
    "    # Loop over data dimensions and create text annotations.\n",
    "    fmt = '.2f' if normalize else 'd'\n",
    "    thresh = cm.max() / 2.\n",
    "    for i in range(cm.shape[0]):\n",
    "        for j in range(cm.shape[1]):\n",
    "            ax.text(j, i, format(cm[i, j], fmt),\n",
    "                    ha=\"center\", va=\"center\",\n",
    "                    color=\"white\" if cm[i, j] > thresh else \"black\")\n",
    "    fig.tight_layout()\n",
    "    return ax"
   ]
  },
  {
   "cell_type": "code",
   "execution_count": null,
   "metadata": {},
   "outputs": [],
   "source": []
  }
 ],
 "metadata": {
  "kernelspec": {
   "display_name": "Python 3",
   "language": "python",
   "name": "python3"
  },
  "language_info": {
   "codemirror_mode": {
    "name": "ipython",
    "version": 3
   },
   "file_extension": ".py",
   "mimetype": "text/x-python",
   "name": "python",
   "nbconvert_exporter": "python",
   "pygments_lexer": "ipython3",
   "version": "3.6.8"
  }
 },
 "nbformat": 4,
 "nbformat_minor": 2
}
